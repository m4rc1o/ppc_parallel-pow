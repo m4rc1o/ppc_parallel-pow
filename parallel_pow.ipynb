{
  "nbformat": 4,
  "nbformat_minor": 0,
  "metadata": {
    "colab": {
      "name": "parallel_pow.ipynb",
      "version": "0.3.2",
      "provenance": [],
      "collapsed_sections": []
    },
    "kernelspec": {
      "name": "python3",
      "display_name": "Python 3"
    }
  },
  "cells": [
    {
      "cell_type": "markdown",
      "metadata": {
        "id": "oEVPtY5tk_D8",
        "colab_type": "text"
      },
      "source": [
        "# **Trabalho Final de PPC - Criação do algoritmo de prova de trabalho paralelo**"
      ]
    },
    {
      "cell_type": "markdown",
      "metadata": {
        "id": "nFLFoFQrVh74",
        "colab_type": "text"
      },
      "source": [
        "##**Definindo um bloco de transações:**"
      ]
    },
    {
      "cell_type": "code",
      "metadata": {
        "id": "Eo-4zk9FVqNv",
        "colab_type": "code",
        "colab": {}
      },
      "source": [
        "bloco = {\n",
        "    \"tansacoes\": [\n",
        "                    \"marcio->tarik:1000BTC\", \n",
        "                    \"tarik->breno:500BTC\",\n",
        "                    \"felipe->marcio:10BTC\",\n",
        "                    \"marcio->tarik:10BTC\",\n",
        "                    \"marcio->marcio:0.5BTC\",\n",
        "                 ],\n",
        "    \"id\": 1789,\n",
        "    \"nounce\": 0\n",
        "}"
      ],
      "execution_count": 0,
      "outputs": []
    },
    {
      "cell_type": "markdown",
      "metadata": {
        "id": "4Xa5J6GQZiyw",
        "colab_type": "text"
      },
      "source": [
        "##**Gerando o hash SHA256 do bloco**"
      ]
    },
    {
      "cell_type": "code",
      "metadata": {
        "id": "0xR_hF0wX0de",
        "colab_type": "code",
        "outputId": "a7b3469f-9851-443d-96c6-14cdb0315a94",
        "colab": {
          "base_uri": "https://localhost:8080/",
          "height": 34
        }
      },
      "source": [
        "import hashlib\n",
        "bloco_str = str(bloco)\n",
        "bloco_hash = hashlib.sha256(bloco_str.encode()).hexdigest()\n",
        "print(f\"Hash do bloco {bloco['id']}: {bloco_hash}\")"
      ],
      "execution_count": 2,
      "outputs": [
        {
          "output_type": "stream",
          "text": [
            "Hash do bloco 1789: 2b32b85ea32288286612363e52cbfc403617d6de6a833fae61ec911569373734\n"
          ],
          "name": "stdout"
        }
      ]
    },
    {
      "cell_type": "markdown",
      "metadata": {
        "id": "JeHFKEVKcATo",
        "colab_type": "text"
      },
      "source": [
        "##**Implementação serial do algoritmo Hashcash**\n",
        "Minerando o bloco definido anteriormente "
      ]
    },
    {
      "cell_type": "markdown",
      "metadata": {
        "id": "3O8gOAcrsjyt",
        "colab_type": "text"
      },
      "source": [
        "Definindo a funçao serial que executará o algoritmo POW"
      ]
    },
    {
      "cell_type": "code",
      "metadata": {
        "id": "Tirr81Ua2Vbt",
        "colab_type": "code",
        "colab": {}
      },
      "source": [
        "from mpi4py import MPI #A impotação está sendo feita aqui para permitir o uso da Wtime"
      ],
      "execution_count": 0,
      "outputs": []
    },
    {
      "cell_type": "code",
      "metadata": {
        "id": "iw2Wr9O1qgie",
        "colab_type": "code",
        "colab": {}
      },
      "source": [
        "def serial_POW(bloco, bloco_hash, qtd_zeros):\n",
        "  while bloco_hash[0:N] != '0'*N:\n",
        "      bloco['nounce'] += 1\n",
        "      bloco_str = str(bloco)\n",
        "      bloco_hash = hashlib.sha256(bloco_str.encode()).hexdigest()\n",
        "  print(f\"Bloco minerado!\\nNovo hash: {bloco_hash}\")\n",
        "  print(f\"Prova de trabalho: {bloco['nounce']}\")"
      ],
      "execution_count": 0,
      "outputs": []
    },
    {
      "cell_type": "code",
      "metadata": {
        "id": "FsUWOcVvdxWu",
        "colab_type": "code",
        "colab": {}
      },
      "source": [
        "N = 6 #A quantidade de dígitos hexadecimais nulos iniciais do hash"
      ],
      "execution_count": 0,
      "outputs": []
    },
    {
      "cell_type": "code",
      "metadata": {
        "id": "QcX-Otz8rltL",
        "colab_type": "code",
        "outputId": "848aec65-e62b-42b6-fa94-4980b0aa862a",
        "colab": {
          "base_uri": "https://localhost:8080/",
          "height": 85
        }
      },
      "source": [
        "tempo_ini = MPI.Wtime()\n",
        "serial_POW(bloco, bloco_hash, N)\n",
        "tempo_fin = MPI.Wtime()\n",
        "tempo_exec_serial = tempo_fin - tempo_ini\n",
        "print(\"Tempo de execução serial:\", tempo_exec_serial)"
      ],
      "execution_count": 6,
      "outputs": [
        {
          "output_type": "stream",
          "text": [
            "Bloco minerado!\n",
            "Novo hash: 000000c0f346a17e4f552f08e083ef86c95ff3403ab03935ba084b65effd05da\n",
            "Prova de trabalho: 42559205\n",
            "Tempo de execução serial: 165.19617534699955\n"
          ],
          "name": "stdout"
        }
      ]
    },
    {
      "cell_type": "markdown",
      "metadata": {
        "id": "Y8jDsxr1fMX7",
        "colab_type": "text"
      },
      "source": [
        "# Implementação paralela do algoritmo Hashcash"
      ]
    },
    {
      "cell_type": "markdown",
      "metadata": {
        "id": "74RIp-5UfcLU",
        "colab_type": "text"
      },
      "source": [
        "A idéia é assumir que os hashs são gerados de maneira aleatória e, portanto, cada um de seus dígitos também é, baseado nisso, pode-se estimar um número de tentativas T suficientes de diferentes valores de nounces que devem ser testados para gerar um hash com os N primeiros dígitos hexadecimais iguais a zero:\n",
        "\n",
        "* Probabilidade de se gerar um hash com os N dígitos hexadecimais iniciais iguais a zero:\n",
        "\n",
        "\\begin{equation*}\n",
        "    p = \\left( \\frac{1}{16} \\right)^N\n",
        "\\end{equation*}\n",
        "    \n",
        "* Estimativa da quantidade de tentativas necessárias para gerar um hash com os N primeiros dígitos hexadecimais nulos:\n",
        "\n",
        "\\begin{equation*}\n",
        "    T = \\frac{1}{p} = \\frac{1}{\\left(\\frac{1}{16}\\right)^N}\n",
        "\\end{equation*}\n",
        "    \n",
        "Após a definição de T, cada processo testará uma uma faixa de T/P valores de nounces, onde P é a quantidade de processos em execução. Quando um processo encontrar o nounce que gera o hash adequado, ou seja, a Prova de Trabalho(POW), ele envia uma mensagem a todos os outros processos, que encerram sua execução. Se nenhum processo encontrar a Prova de Trabalho, os próximos T valores de nounces são testados e assim sucessivamente, até que a Prova de Trabalho seja encontrada."
      ]
    },
    {
      "cell_type": "markdown",
      "metadata": {
        "id": "7zs_Vk3950IU",
        "colab_type": "text"
      },
      "source": [
        "## Definindo o número de dígitos iniciais nulos e calculando a quantidade de tentativas necessárias de nounces para encontrar o hash adequado"
      ]
    },
    {
      "cell_type": "code",
      "metadata": {
        "id": "nbhmV_0d6_QD",
        "colab_type": "code",
        "colab": {}
      },
      "source": [
        "import math"
      ],
      "execution_count": 0,
      "outputs": []
    },
    {
      "cell_type": "code",
      "metadata": {
        "id": "-s75bQ8a6Rs-",
        "colab_type": "code",
        "colab": {}
      },
      "source": [
        "T = math.ceil(1/(1/16)**N)*4 #O *4 é apenas para testes"
      ],
      "execution_count": 0,
      "outputs": []
    },
    {
      "cell_type": "code",
      "metadata": {
        "id": "9qZyzpgQ6gMb",
        "colab_type": "code",
        "outputId": "2f548e9a-f78e-419f-d507-a81e33f54434",
        "colab": {
          "base_uri": "https://localhost:8080/",
          "height": 34
        }
      },
      "source": [
        "print(\"Número de tentativas estimado:\", T)"
      ],
      "execution_count": 9,
      "outputs": [
        {
          "output_type": "stream",
          "text": [
            "Número de tentativas estimado: 67108864\n"
          ],
          "name": "stdout"
        }
      ]
    },
    {
      "cell_type": "markdown",
      "metadata": {
        "id": "LLV4v-vDL1_D",
        "colab_type": "text"
      },
      "source": [
        "## Executando a versão paralela do algoritmo"
      ]
    },
    {
      "cell_type": "code",
      "metadata": {
        "id": "dKfla5X_IvOL",
        "colab_type": "code",
        "colab": {}
      },
      "source": [
        "exec = !mpirun --allow-run-as-root -n 4 python3 parallel_pow.py {N} {T}"
      ],
      "execution_count": 0,
      "outputs": []
    },
    {
      "cell_type": "code",
      "metadata": {
        "id": "W2RfqXSq8yEy",
        "colab_type": "code",
        "outputId": "8156bbcf-8620-4dfd-ae2c-3a7d4eee8b2e",
        "colab": {
          "base_uri": "https://localhost:8080/",
          "height": 153
        }
      },
      "source": [
        "exec"
      ],
      "execution_count": 11,
      "outputs": [
        {
          "output_type": "execute_result",
          "data": {
            "text/plain": [
              "['Sou o processo 3 e vou testar de 50331648 até 67108864',\n",
              " 'Sou o processo 0 e vou testar de 0 até 16777216',\n",
              " 'Hash inicial 2b32b85ea32288286612363e52cbfc403617d6de6a833fae61ec911569373734',\n",
              " 'Sou o processo 1 e vou testar de 16777216 até 33554432',\n",
              " 'Sou o processo 2 e vou testar de 33554432 até 50331648',\n",
              " 'O processo 2 encontrou a prova de trabalho',\n",
              " 'Prova de trabalho 42559205',\n",
              " 'Tempo de execução: 107.66755129400008']"
            ]
          },
          "metadata": {
            "tags": []
          },
          "execution_count": 11
        }
      ]
    },
    {
      "cell_type": "code",
      "metadata": {
        "id": "bKF6AMUo9Cvm",
        "colab_type": "code",
        "colab": {}
      },
      "source": [
        "tempo_exec_paralela = float(exec[-1].split(':')[1])"
      ],
      "execution_count": 0,
      "outputs": []
    },
    {
      "cell_type": "code",
      "metadata": {
        "id": "MM-KSGg59NY6",
        "colab_type": "code",
        "outputId": "58de3c36-1896-4273-e1ae-a0e1d58e8809",
        "colab": {
          "base_uri": "https://localhost:8080/",
          "height": 34
        }
      },
      "source": [
        "tempo_exec_paralela"
      ],
      "execution_count": 13,
      "outputs": [
        {
          "output_type": "execute_result",
          "data": {
            "text/plain": [
              "107.66755129400008"
            ]
          },
          "metadata": {
            "tags": []
          },
          "execution_count": 13
        }
      ]
    },
    {
      "cell_type": "markdown",
      "metadata": {
        "id": "7aqAgqxT_U52",
        "colab_type": "text"
      },
      "source": [
        "## Cálculo do speedup"
      ]
    },
    {
      "cell_type": "markdown",
      "metadata": {
        "id": "JINH0mXOMmtd",
        "colab_type": "text"
      },
      "source": [
        "> Obtendo os speedups para o número de processos entre 2 e 8"
      ]
    },
    {
      "cell_type": "code",
      "metadata": {
        "id": "n6wnMBdT_bFF",
        "colab_type": "code",
        "outputId": "532a7a30-59f1-4289-e9c6-aaa10e09c043",
        "colab": {
          "base_uri": "https://localhost:8080/",
          "height": 54
        }
      },
      "source": [
        "speedups = {}\n",
        "for i in range(2, 9):\n",
        "    exec = !mpirun --allow-run-as-root -n {i} python3 parallel_pow.py {N} {T}\n",
        "    t_exec_paralela = float(exec[-1].split(':')[1])\n",
        "    speedup = tempo_exec_serial/t_exec_paralela\n",
        "    speedups[i] = speedup"
      ],
      "execution_count": 17,
      "outputs": [
        {
          "output_type": "stream",
          "text": [
            "Speedup: {2: 2.6498063089838215, 3: 1.102823079775234, 4: 1.4230447497167802, 5: 4.394907175196159, 6: 1.9415464144222907, 7: 2.4539028435546637, 8: 9.649984689337195}\n"
          ],
          "name": "stdout"
        }
      ]
    },
    {
      "cell_type": "code",
      "metadata": {
        "id": "HVYzN61_M5YI",
        "colab_type": "code",
        "colab": {
          "base_uri": "https://localhost:8080/",
          "height": 54
        },
        "outputId": "5585fe65-329a-4fdb-c1d6-7e025f82d8b3"
      },
      "source": [
        "print(\"Speedups:\", speedups)"
      ],
      "execution_count": 19,
      "outputs": [
        {
          "output_type": "stream",
          "text": [
            "Speedups: {2: 2.6498063089838215, 3: 1.102823079775234, 4: 1.4230447497167802, 5: 4.394907175196159, 6: 1.9415464144222907, 7: 2.4539028435546637, 8: 9.649984689337195}\n"
          ],
          "name": "stdout"
        }
      ]
    },
    {
      "cell_type": "code",
      "metadata": {
        "id": "Db_vlt7cNfch",
        "colab_type": "code",
        "colab": {}
      },
      "source": [
        "#!pip3 install matplotlib"
      ],
      "execution_count": 0,
      "outputs": []
    },
    {
      "cell_type": "code",
      "metadata": {
        "id": "uv_GibQtNBNy",
        "colab_type": "code",
        "colab": {}
      },
      "source": [
        "import matplotlib.pyplot as plt\n",
        "import numpy as np"
      ],
      "execution_count": 0,
      "outputs": []
    },
    {
      "cell_type": "code",
      "metadata": {
        "id": "a7R_q8-POVi-",
        "colab_type": "code",
        "colab": {
          "base_uri": "https://localhost:8080/",
          "height": 296
        },
        "outputId": "60d4264d-4e97-4d29-c07a-7b6f0f43791c"
      },
      "source": [
        "speedps = list(speedups.values())\n",
        "num_processos = list(speedups.keys())\n",
        "\n",
        "fig = plt.figure()\n",
        "ax = fig.gca()\n",
        "\n",
        "plt.title(\"Speedup em função do número de processos\")\n",
        "plt.xlabel(\"Número de processos\")\n",
        "plt.ylabel(\"Speedup\")\n",
        "\n",
        "plt.yscale(\"linear\")\n",
        "\n",
        "ax.set_yticks(np.arange(0, 10., 1))\n",
        "\n",
        "plt.plot(num_processos, speedps)\n",
        "plt.grid()\n",
        "\n",
        "plt.show()"
      ],
      "execution_count": 95,
      "outputs": [
        {
          "output_type": "display_data",
          "data": {
            "text/plain": [
              "<Figure size 432x288 with 1 Axes>"
            ],
            "image/png": "[encoded data removed]"
          },
          "metadata": {
            "tags": [],
            "needs_background": "light"
          }
        }
      ]
    }
  ]
}