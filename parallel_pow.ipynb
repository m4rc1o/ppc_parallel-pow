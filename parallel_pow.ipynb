{
  "nbformat": 4,
  "nbformat_minor": 0,
  "metadata": {
    "colab": {
      "name": "parallel_pow.ipynb",
      "version": "0.3.2",
      "provenance": [],
      "collapsed_sections": [],
      "include_colab_link": true
    },
    "kernelspec": {
      "name": "python3",
      "display_name": "Python 3"
    }
  },
  "cells": [
    {
      "cell_type": "markdown",
      "metadata": {
        "id": "view-in-github",
        "colab_type": "text"
      },
      "source": [
        "<a href=\"https://colab.research.google.com/github/m4rc1o/ppc_parallel-pow/blob/master/parallel_pow.ipynb\" target=\"_parent\"><img src=\"https://colab.research.google.com/assets/colab-badge.svg\" alt=\"Open In Colab\"/></a>"
      ]
    },
    {
      "cell_type": "markdown",
      "metadata": {
        "id": "oEVPtY5tk_D8",
        "colab_type": "text"
      },
      "source": [
        "# **Criação do algoritmo de prova de trabalho paralelo - Trabalho Final de PPC**"
      ]
    },
    {
      "cell_type": "code",
      "metadata": {
        "id": "mw4Og7e8Ww4Y",
        "colab_type": "code",
        "outputId": "91067d17-c563-4413-ff08-37e72abb41f9",
        "colab": {
          "base_uri": "https://localhost:8080/",
          "height": 34
        }
      },
      "source": [
        "print(\"Minerando BTC paralelamente com PewDiePie\")\n"
      ],
      "execution_count": 1,
      "outputs": [
        {
          "output_type": "stream",
          "text": [
            "Minerando BTC paralelamente com PewDiePie\n"
          ],
          "name": "stdout"
        }
      ]
    },
    {
      "cell_type": "markdown",
      "metadata": {
        "id": "nFLFoFQrVh74",
        "colab_type": "text"
      },
      "source": [
        "##**Definindo um bloco de transações:**"
      ]
    },
    {
      "cell_type": "code",
      "metadata": {
        "id": "Eo-4zk9FVqNv",
        "colab_type": "code",
        "colab": {}
      },
      "source": [
        "bloco = {\n",
        "    \"tansacoes\": [\n",
        "                    \"marcio->tarik:1000BTC\", \n",
        "                    \"tarik->breno:500BTC\",\n",
        "                    \"felipe->marcio:10BTC\",\n",
        "                    \"marcio->tarik:10BTC\",\n",
        "                    \"marcio->marcio:0.5BTC\",\n",
        "                 ],\n",
        "    \"id\": 1789,\n",
        "    \"nounce\": 0\n",
        "}"
      ],
      "execution_count": 0,
      "outputs": []
    },
    {
      "cell_type": "markdown",
      "metadata": {
        "id": "4Xa5J6GQZiyw",
        "colab_type": "text"
      },
      "source": [
        "##**Gerando o hash SHA256 do bloco**"
      ]
    },
    {
      "cell_type": "code",
      "metadata": {
        "id": "0xR_hF0wX0de",
        "colab_type": "code",
        "outputId": "a62ef87e-a820-4add-c332-9236b75c3cb5",
        "colab": {
          "base_uri": "https://localhost:8080/",
          "height": 34
        }
      },
      "source": [
        "import hashlib\n",
        "bloco_str = str(bloco)\n",
        "bloco_hash = hashlib.sha256(bloco_str.encode()).hexdigest()\n",
        "print(f\"Hash do bloco {bloco['id']}: {bloco_hash}\")"
      ],
      "execution_count": 10,
      "outputs": [
        {
          "output_type": "stream",
          "text": [
            "Hash do bloco 1789: 2b32b85ea32288286612363e52cbfc403617d6de6a833fae61ec911569373734\n"
          ],
          "name": "stdout"
        }
      ]
    },
    {
      "cell_type": "markdown",
      "metadata": {
        "id": "JeHFKEVKcATo",
        "colab_type": "text"
      },
      "source": [
        "##**Implementação serial do algoritmo Hashcash**"
      ]
    },
    {
      "cell_type": "markdown",
      "metadata": {
        "id": "qjAw-whqEmX8",
        "colab_type": "text"
      },
      "source": [
        "Minerando o bloco definido anteriormente"
      ]
    },
    {
      "cell_type": "code",
      "metadata": {
        "id": "0qwj63GQdQlz",
        "colab_type": "code",
        "outputId": "3decee25-c2bc-4d8b-d34b-0596d53aa64a",
        "colab": {
          "base_uri": "https://localhost:8080/",
          "height": 85
        }
      },
      "source": [
        "print(f\"Hash anterior: {bloco_hash}\")\n",
        "while bloco_hash[0:6] != '000000':\n",
        "  bloco['nounce'] += 1\n",
        "  bloco_str = str(bloco)\n",
        "  bloco_hash = hashlib.sha256(bloco_str.encode()).hexdigest()\n",
        "\n",
        "print(f\"Bloco minerado!\\nNovo hash: {bloco_hash}\")\n",
        "print(f\"Prova de trabalho: {bloco['nounce']}\")"
      ],
      "execution_count": 11,
      "outputs": [
        {
          "output_type": "stream",
          "text": [
            "Hash anterior: 2b32b85ea32288286612363e52cbfc403617d6de6a833fae61ec911569373734\n",
            "Bloco minerado!\n",
            "Novo hash: 000000c0f346a17e4f552f08e083ef86c95ff3403ab03935ba084b65effd05da\n",
            "Prova de trabalho: 42559205\n"
          ],
          "name": "stdout"
        }
      ]
    },
    {
      "cell_type": "code",
      "metadata": {
        "id": "FsUWOcVvdxWu",
        "colab_type": "code",
        "colab": {}
      },
      "source": [
        ""
      ],
      "execution_count": 0,
      "outputs": []
    }
  ]
}